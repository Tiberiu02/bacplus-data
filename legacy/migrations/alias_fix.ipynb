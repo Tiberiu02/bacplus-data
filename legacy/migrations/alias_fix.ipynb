{
 "cells": [
  {
   "cell_type": "code",
   "execution_count": 1,
   "metadata": {},
   "outputs": [],
   "source": [
    "import sqlite3\n",
    "import os\n",
    "import dotenv\n",
    "from tqdm import tqdm\n",
    "\n",
    "dotenv.load_dotenv()\n",
    "\n",
    "conn = sqlite3.connect(os.getenv(\"DB_FILE\"))\n",
    "cur = conn.cursor()"
   ]
  },
  {
   "cell_type": "code",
   "execution_count": 2,
   "metadata": {},
   "outputs": [
    {
     "name": "stdout",
     "output_type": "stream",
     "text": [
      "[('SCOALA_GIMNAZIALA_ION_POP_RETEGANUL_SINCEL_AB', 'SCOALA_GIMNAZIALA_ION_POP_RETEGANUL_SANCEL_AB'), ('SCOALA_GIMNAZIALA_CIMPENI_AB', 'SCOALA_GIMNAZIALA_CAMPENI_AB'), ('SCOALA_GIMNAZIALA_EMIL_RACOVITA_GIRDA_DE_SUS_AB', 'SCOALA_GIMNAZIALA_EMIL_RACOVITA_GARDA_DE_SUS_AB'), ('COLEGIUL_TEHNIC_CARASAN_RESITA_CS', 'COELGIUL_TEHNIC_CARASAN_CS'), ('SCOALA_GIMNAZIALA_NR_1_MUNICIPIUL_RIMNICU_SARAT_BZ', 'SCOALA_GIMNAZIALA_NR_1_MUNICIPIUL_RAMNICU_SARAT_BZ'), ('SCOALA_GIMNAZIALA_DOMNESTI_TIRG_VN', 'SCOALA_GIMNAZIALA_DOMNESTI_TARG_VN'), ('SCOALA_GIMNAZIALA_GHEORGHE_VERNESCU_MUNICIPIUL_RIMNICU_SARAT_BZ', 'SCOALA_GIMNAZIALA_GHEORGHE_VERNESCU_MUNICIPIUL_RAMNICU_SARAT_BZ'), ('SCOALA_GIMNAZIALA_NR_6_MUNICIPIUL_RIMNICU_SARAT_BZ', 'SCOALA_GIMNAZIALA_NR_6_MUNICIPIUL_RAMNICU_SARAT_BZ'), ('LICEUL_TEHNOLOGIC_VICTOR_FRUNZA_MUNICIPIUL_RIMNICU_SARAT_BZ', 'LICEUL_TEHNOLOGIC_VICTOR_FRUNZA_MUNICIPIUL_RAMNICU_SARAT_BZ'), ('COLEGIUL_TEHNIC_CD_NENITESCU_BAIA_MARE_MM', 'COLEGIUL_TEHNIC_C_D_NENITESCU_BAIA_MARE_MM'), ('LICEUL_TEHNOLOGIC_SILVIC_CIMPENI_AB', 'LICEUL_TEHNOLOGIC_SILVIC_CAMPENI_AB'), ('SCOALA_GIMNAZIALA_VASILE_CRISTOFOREANU_MUNICIPIUL_RIMNICU_SARAT_BZ', 'SCOALA_GIMNAZIALA_VASILE_CRISTOFOREANU_MUNICIPIUL_RAMNICU_SARAT_BZ'), ('LICEUL_TEHNOLOGIC_ECONOMIC_ELINA_MATEI_BASARAB_MUNICIPIUL_RIMNICU_SARAT_BZ', 'LICEUL_TEHNOLOGIC_ECONOMIC_ELINA_MATEI_BASARAB_MUNICIPIUL_RAMNICU_SARAT_BZ'), ('CENTRUL_DE_STUDII_STEFAN_CEL_MARE_SI_SFANT_BUCOVINA_CIMPULUNG_MOLDOVENESC_SV', 'CENTRUL_DE_STUDII_STEFAN_CEL_MARE_SI_SFANT_BUCOVINA_CAMPULUNG_MOLDOVENESC_SV'), ('LICEUL_TEHNOLOGIC_CONSTANTIN_BRINCOVEANU_SCORNICESTI_OT', 'LICEUL_TEHNOLOGIC_CONSTANTIN_BRANCOVEANU_SCORNICESTI_OT'), ('COLEGIUL_NATIONAL_GRIGORE_MOISIL_URZICENI_IL', 'COLEGIUL_NATIONALGRIGORE_MOISIL_URZICENI_IL'), ('COLEGIUL_NATIONAL_ALEXANDRU_VLAHUTA_MUNICIPIUL_RIMNICU_SARAT_BZ', 'COLEGIUL_NATIONAL_ALEXANDRU_VLAHUTA_MUNICIPIUL_RAMNICU_SARAT_BZ')]\n"
     ]
    }
   ],
   "source": [
    "alias = cur.execute(\"SELECT alternativ, corect FROM alias\").fetchall()\n",
    "\n",
    "print(alias)"
   ]
  },
  {
   "cell_type": "code",
   "execution_count": 3,
   "metadata": {},
   "outputs": [
    {
     "name": "stderr",
     "output_type": "stream",
     "text": [
      "100%|██████████| 17/17 [03:31<00:00, 12.44s/it]\n"
     ]
    }
   ],
   "source": [
    "for alternativ, corect in tqdm(alias):\n",
    "    cur.execute(\"UPDATE bac SET id_liceu = ? WHERE id_liceu = ?\", (corect, alternativ))\n",
    "    conn.commit()"
   ]
  },
  {
   "cell_type": "code",
   "execution_count": 4,
   "metadata": {},
   "outputs": [
    {
     "name": "stderr",
     "output_type": "stream",
     "text": [
      "100%|██████████| 17/17 [00:33<00:00,  1.99s/it]\n"
     ]
    }
   ],
   "source": [
    "for alternativ, corect in tqdm(alias):\n",
    "    cur.execute(\"UPDATE en SET id_scoala = ? WHERE id_scoala = ?\", (corect, alternativ))\n",
    "    conn.commit()"
   ]
  },
  {
   "cell_type": "code",
   "execution_count": 5,
   "metadata": {},
   "outputs": [
    {
     "name": "stderr",
     "output_type": "stream",
     "text": [
      "100%|██████████| 17/17 [00:00<00:00, 42.63it/s]\n"
     ]
    }
   ],
   "source": [
    "for alternativ, corect in tqdm(alias):\n",
    "    cur.execute(\"DELETE FROM institutii WHERE id = ?\", (alternativ,))\n",
    "    conn.commit()"
   ]
  }
 ],
 "metadata": {
  "kernelspec": {
   "display_name": "Python 3",
   "language": "python",
   "name": "python3"
  },
  "language_info": {
   "codemirror_mode": {
    "name": "ipython",
    "version": 3
   },
   "file_extension": ".py",
   "mimetype": "text/x-python",
   "name": "python",
   "nbconvert_exporter": "python",
   "pygments_lexer": "ipython3",
   "version": "3.12.0"
  }
 },
 "nbformat": 4,
 "nbformat_minor": 2
}
