{
 "cells": [
  {
   "cell_type": "code",
   "execution_count": 1,
   "metadata": {},
   "outputs": [],
   "source": [
    "import sqlite3\n",
    "import os\n",
    "import dotenv\n",
    "from tqdm import tqdm\n",
    "\n",
    "dotenv.load_dotenv()\n",
    "\n",
    "conn = sqlite3.connect(os.getenv(\"DB_FILE\"))\n",
    "cur = conn.cursor()"
   ]
  },
  {
   "cell_type": "code",
   "execution_count": 2,
   "metadata": {},
   "outputs": [
    {
     "name": "stderr",
     "output_type": "stream",
     "text": [
      "100%|██████████| 1664/1664 [00:00<00:00, 59336.37it/s]\n"
     ]
    }
   ],
   "source": [
    "licee = cur.execute(\"SELECT id_liceu, nume_afisat, rank, address, website, facebook, instagram, wikipedia FROM licee\").fetchall()\n",
    "\n",
    "for liceu in tqdm(licee):\n",
    "  cur.execute(\"INSERT INTO institutii(id, nume, rank, adresa, website, facebook, instagram, wikipedia) VALUES(?, ?, ?, ?, ?, ?, ?, ?)\", liceu)\n",
    "conn.commit()"
   ]
  },
  {
   "cell_type": "code",
   "execution_count": 2,
   "metadata": {},
   "outputs": [
    {
     "name": "stderr",
     "output_type": "stream",
     "text": [
      "100%|██████████| 6206/6206 [00:00<00:00, 52461.77it/s]\n"
     ]
    }
   ],
   "source": [
    "scoli = cur.execute(\"SELECT id_scoala, nume_afisat, cod_siiir FROM scoli\").fetchall()\n",
    "\n",
    "# conn.close()\n",
    "conn = sqlite3.connect(os.getenv(\"DB_FILE\"))\n",
    "cur = conn.cursor()\n",
    "\n",
    "for scoala in tqdm(scoli):\n",
    "  exists = cur.execute(\"SELECT * FROM institutii WHERE id = ?\", (scoala[0],)).fetchone()\n",
    "\n",
    "  try:\n",
    "    if not exists:\n",
    "      cur.execute(\"INSERT INTO institutii(id, nume) VALUES(?, ?)\", (scoala[0], scoala[1]))\n",
    "  except Exception as e:\n",
    "    print(scoala)\n",
    "    conn.close()\n",
    "    raise e\n",
    "conn.commit()"
   ]
  },
  {
   "cell_type": "code",
   "execution_count": 11,
   "metadata": {},
   "outputs": [
    {
     "name": "stdout",
     "output_type": "stream",
     "text": [
      "17688\n"
     ]
    },
    {
     "name": "stderr",
     "output_type": "stream",
     "text": [
      "100%|██████████| 6999/6999 [00:00<00:00, 205598.24it/s]\n"
     ]
    }
   ],
   "source": [
    "import unidecode\n",
    "import sys\n",
    "\n",
    "sys.path.append(\"..\")\n",
    "\n",
    "from judete import get_county_code\n",
    "from unification import cannonicalize_name\n",
    "\n",
    "\n",
    "siiir = cur.execute(\"SELECT cod, denumire, judet, tip_unitate FROM siiir\").fetchall()\n",
    "\n",
    "siiir_from_id = {}\n",
    "for s in siiir:\n",
    "  cod, denumire, judet, tip_unitate = s\n",
    "\n",
    "  if tip_unitate != \"Unitate de învățământ\":\n",
    "    continue\n",
    "\n",
    "  cod_judet = get_county_code(judet)\n",
    "  id = cannonicalize_name(denumire, cod_judet, True)\n",
    "  # if id in siiir_from_id:\n",
    "  #   print(f\"Duplicate {id} {denumire} {cod_judet} {siiir_from_id[id]} -> {cod}\")\n",
    "\n",
    "  siiir_from_id[id] = cod\n",
    "\n",
    "print(len(siiir_from_id))\n",
    "\n",
    "institutii = cur.execute(\"SELECT id FROM institutii\").fetchall()\n",
    "\n",
    "for (id, ) in tqdm(institutii):\n",
    "  if id in siiir_from_id:\n",
    "    cur.execute(\"UPDATE institutii SET cod_siiir = ? WHERE id = ?\", (siiir_from_id[id], id))\n",
    "\n",
    "conn.commit()\n"
   ]
  },
  {
   "cell_type": "code",
   "execution_count": 17,
   "metadata": {},
   "outputs": [
    {
     "name": "stderr",
     "output_type": "stream",
     "text": [
      "  0%|          | 0/6999 [00:00<?, ?it/s]"
     ]
    },
    {
     "name": "stderr",
     "output_type": "stream",
     "text": [
      "100%|██████████| 6999/6999 [00:00<00:00, 7227.18it/s]\n"
     ]
    }
   ],
   "source": [
    "\n",
    "from judete import get_county_code, judete_dupa_cod\n",
    "\n",
    "institutii = cur.execute(\"SELECT id, adresa, website, cod_siiir FROM institutii\").fetchall()\n",
    "\n",
    "for (id, adresa, website, cod_siiir) in tqdm(institutii):\n",
    "  if cod_siiir is not None:\n",
    "    siiir = cur.execute(\"SELECT strada, nr_strada, localitate, cod_postal, website, telefon, cod_fiscal FROM siiir WHERE cod = ?\", (cod_siiir,)).fetchone()\n",
    "\n",
    "    if not adresa:\n",
    "      adresa_siiir = siiir[0].strip(' ,.')\n",
    "      if siiir[1].strip() not in [\"\", \"-\", \".\", \"x\"]:\n",
    "        adresa_siiir += \" \" + siiir[1].strip(' ,.')\n",
    "      if siiir[2] is not None:\n",
    "        adresa_siiir += \", \" + siiir[2].title()\n",
    "      if siiir[3] is not None:\n",
    "        adresa_siiir += \", \" + siiir[3]\n",
    "\n",
    "      cur.execute(\"UPDATE institutii SET adresa = ? WHERE id = ?\", (adresa_siiir, id))\n",
    "    \n",
    "    if not website and siiir[4]:\n",
    "      cur.execute(\"UPDATE institutii SET website = ? WHERE id = ?\", (siiir[4], id))\n",
    "    \n",
    "    if siiir[5]:\n",
    "      cur.execute(\"UPDATE institutii SET telefon = ? WHERE id = ?\", (siiir[5], id))\n",
    "    \n",
    "    if siiir[6]:\n",
    "      cur.execute(\"UPDATE institutii SET cod_fiscal = ? WHERE id = ?\", (siiir[6], id))\n",
    "\n",
    "conn.commit()"
   ]
  },
  {
   "cell_type": "code",
   "execution_count": 20,
   "metadata": {},
   "outputs": [
    {
     "name": "stdout",
     "output_type": "stream",
     "text": [
      "Updated 6206 scoli.\n",
      "Updated 1664 licee.\n"
     ]
    }
   ],
   "source": [
    "conn.close()\n",
    "conn = sqlite3.connect(os.getenv(\"DB_FILE\"))\n",
    "cur = conn.cursor()\n",
    "\n",
    "scoli = cur.execute(\n",
    "    \"SELECT id_scoala FROM scoli\"\n",
    ").fetchall()\n",
    "\n",
    "for id_scoala in (scoli):\n",
    "    cur.execute(\n",
    "        \"UPDATE institutii SET gimnaziu = 'da' WHERE id = ?\",\n",
    "        (id_scoala),\n",
    "    )\n",
    "\n",
    "print(f\"Updated {len(scoli)} scoli.\")\n",
    "\n",
    "liceu = cur.execute(\n",
    "    \"SELECT id_liceu FROM licee\"\n",
    ").fetchall()\n",
    "\n",
    "for id_liceu in (liceu):\n",
    "    cur.execute(\n",
    "        \"UPDATE institutii SET liceu = 'da' WHERE id = ?\",\n",
    "        (id_liceu),\n",
    "    )\n",
    "\n",
    "print(f\"Updated {len(liceu)} licee.\")\n",
    "\n",
    "conn.commit()"
   ]
  }
 ],
 "metadata": {
  "kernelspec": {
   "display_name": "Python 3",
   "language": "python",
   "name": "python3"
  },
  "language_info": {
   "codemirror_mode": {
    "name": "ipython",
    "version": 3
   },
   "file_extension": ".py",
   "mimetype": "text/x-python",
   "name": "python",
   "nbconvert_exporter": "python",
   "pygments_lexer": "ipython3",
   "version": "3.12.0"
  }
 },
 "nbformat": 4,
 "nbformat_minor": 2
}
