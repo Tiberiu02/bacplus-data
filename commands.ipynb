{
 "cells": [
  {
   "cell_type": "markdown",
   "metadata": {},
   "source": [
    "# Bacalaureat"
   ]
  },
  {
   "cell_type": "markdown",
   "metadata": {},
   "source": [
    "#### Insert Bac (static.bacalaureat.edu.ro) cu detectare SIIIR"
   ]
  },
  {
   "cell_type": "code",
   "execution_count": null,
   "metadata": {},
   "outputs": [],
   "source": [
    "%%cmd\n",
    "python src/db_insert/bacalaureat.py 2024 data/bacalaureat/static.bacalaureat.edu.ro/2024.csv schema/bac/static.bacalaureat.edu.ro.json --detect-siiir"
   ]
  },
  {
   "cell_type": "markdown",
   "metadata": {},
   "source": [
    "# Evaluare / Admitere"
   ]
  },
  {
   "cell_type": "markdown",
   "metadata": {},
   "source": [
    "#### Insert Evaluare (static.evaluare.edu.ro) cu detectare SIIIR"
   ]
  },
  {
   "cell_type": "code",
   "execution_count": null,
   "metadata": {},
   "outputs": [],
   "source": [
    "%%cmd\n",
    "python src/db_insert/evaluare.py 2024 data/evaluare/static.evaluare.edu.ro/2024.json schema/en/static.evaluare.edu.ro.json --detect-siiir"
   ]
  },
  {
   "cell_type": "markdown",
   "metadata": {},
   "source": [
    "#### Insert Admitere (static.admitere.edu.ro)"
   ]
  },
  {
   "cell_type": "code",
   "execution_count": null,
   "metadata": {},
   "outputs": [],
   "source": [
    "%%cmd\n",
    "python src/db_insert/evaluare.py 2024 data/evaluare/static.admitere.edu.ro/2024.json schema/en/static.admitere.edu.ro.json --update-existing --detect-siiir-repartizare"
   ]
  },
  {
   "cell_type": "markdown",
   "metadata": {},
   "source": [
    "#### Insert Toți Anii (EN)\n",
    "\n",
    "Datele de pe `data.gov.ro` nu conțin denumirea limbii materne (acolo unde există). De accea, trebuie inserte în combinație cu datele de pe static.evaluare.edu.ro. Acestea din urma nu conțin codurile SIIIR. De aceea este nevoie de ambele. "
   ]
  },
  {
   "cell_type": "code",
   "execution_count": null,
   "metadata": {},
   "outputs": [],
   "source": [
    "%%cmd\n",
    "\n",
    "python src/db_insert/evaluare.py 2021 data/evaluare/data.gov.ro/2021.xlsx schema/en/data.gov.ro.json\n",
    "python src/db_insert/evaluare.py 2021 data/evaluare/static.admitere.edu.ro/2021.json schema/en/static.admitere.edu.ro.json --update-existing --detect-siiir-repartizare\n",
    "\n",
    "python src/db_insert/evaluare.py 2022 data/evaluare/data.gov.ro/2022.xlsx schema/en/data.gov.ro.json\n",
    "python src/db_insert/evaluare.py 2022 data/evaluare/static.evaluare.edu.ro/2022.json schema/en/static.evaluare.edu.ro.json --update-existing\n",
    "python src/db_insert/evaluare.py 2022 data/evaluare/static.admitere.edu.ro/2022.json schema/en/static.admitere.edu.ro.json --update-existing --detect-siiir-repartizare\n",
    "\n",
    "python src/db_insert/evaluare.py 2023 data/evaluare/data.gov.ro/2023.xlsx schema/en/data.gov.ro.json\n",
    "python src/db_insert/evaluare.py 2023 data/evaluare/static.evaluare.edu.ro/2023.json schema/en/static.evaluare.edu.ro.json --update-existing\n",
    "python src/db_insert/evaluare.py 2023 data/evaluare/static.admitere.edu.ro/2023.json schema/en/static.admitere.edu.ro.json --update-existing --detect-siiir-repartizare\n",
    "\n",
    "python src/db_insert/evaluare.py 2024 data/evaluare/data.gov.ro/2024.xlsx schema/en/data.gov.ro.json\n",
    "python src/db_insert/evaluare.py 2024 data/evaluare/static.evaluare.edu.ro/2024.json schema/en/static.evaluare.edu.ro.json --update-existing\n",
    "python src/db_insert/evaluare.py 2024 data/evaluare/static.admitere.edu.ro/2024.json schema/en/static.admitere.edu.ro.json --update-existing --detect-siiir-repartizare"
   ]
  },
  {
   "cell_type": "markdown",
   "metadata": {},
   "source": [
    "#### Insert Toți Anii (BAC)"
   ]
  },
  {
   "cell_type": "code",
   "execution_count": null,
   "metadata": {},
   "outputs": [],
   "source": [
    "%%cmd\n",
    "\n",
    "python src/db_insert/bacalaureat.py 2018 data/bacalaureat/data.gov.ro/2018.xlsx schema/bac/data.gov.ro.json\n",
    "python src/db_insert/bacalaureat.py 2019 data/bacalaureat/data.gov.ro/2019.xlsx schema/bac/data.gov.ro.json\n",
    "python src/db_insert/bacalaureat.py 2020 data/bacalaureat/data.gov.ro/2020.xlsx schema/bac/data.gov.ro.json\n",
    "python src/db_insert/bacalaureat.py 2021 data/bacalaureat/data.gov.ro/2021.xlsx schema/bac/data.gov.ro.json\n",
    "python src/db_insert/bacalaureat.py 2022 data/bacalaureat/data.gov.ro/2022.xlsx schema/bac/data.gov.ro.2022.json\n",
    "python src/db_insert/bacalaureat.py 2023 data/bacalaureat/data.gov.ro/2023.xlsx schema/bac/data.gov.ro.json\n",
    "python src/db_insert/bacalaureat.py 2024 data/bacalaureat/data.gov.ro/2024.xlsx schema/bac/data.gov.ro.json\n",
    "\n",
    "python src/db_insert/bacalaureat.py 2024 data/bacalaureat/static.bacalaureat.edu.ro/2024.csv schema/bac/static.bacalaureat.edu.ro.json --update-existing\n",
    "\n",
    "python src/db_insert/fix_wrong_school_assignments.py"
   ]
  }
 ],
 "metadata": {
  "kernelspec": {
   "display_name": "Python 3",
   "language": "python",
   "name": "python3"
  },
  "language_info": {
   "codemirror_mode": {
    "name": "ipython",
    "version": 3
   },
   "file_extension": ".py",
   "mimetype": "text/x-python",
   "name": "python",
   "nbconvert_exporter": "python",
   "pygments_lexer": "ipython3",
   "version": "3.12.4"
  }
 },
 "nbformat": 4,
 "nbformat_minor": 2
}
